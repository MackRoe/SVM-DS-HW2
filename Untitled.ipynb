{
 "cells": [
  {
   "cell_type": "markdown",
   "metadata": {},
   "source": [
    "### Challenge:\n",
    "1. Import and explore the dataset. Recall the load_breast_cancer() method will return an object that contains the data in .data, the labels in .target, and the column names in .feature_names attributes.\n",
    "2. Build a Correlation Heatmap using Seaborn to check for each feature's correlation with the labels.\n",
    "3. Build a second Correlation Heatmap using Seaborn to check for mutlicollinearity between features.\n",
    "4. Scale and transform the data using a StandardScaler() object and any appropriate methods it contains.\n",
    "5. Split the newly scaled data into training and testing sets using train_test_split().\n",
    "6. Create an SVC() object, which can be found in sklearn.svm\n",
    "7. Fit the model to the scaled data.\n",
    "8 .Use your validation data to check the accuracy metrics for your model."
   ]
  },
  {
   "cell_type": "code",
   "execution_count": 3,
   "metadata": {},
   "outputs": [
    {
     "name": "stdout",
     "output_type": "stream",
     "text": [
      "[[1.799e+01 1.038e+01 1.228e+02 ... 2.654e-01 4.601e-01 1.189e-01]\n",
      " [2.057e+01 1.777e+01 1.329e+02 ... 1.860e-01 2.750e-01 8.902e-02]\n",
      " [1.969e+01 2.125e+01 1.300e+02 ... 2.430e-01 3.613e-01 8.758e-02]\n",
      " ...\n",
      " [1.660e+01 2.808e+01 1.083e+02 ... 1.418e-01 2.218e-01 7.820e-02]\n",
      " [2.060e+01 2.933e+01 1.401e+02 ... 2.650e-01 4.087e-01 1.240e-01]\n",
      " [7.760e+00 2.454e+01 4.792e+01 ... 0.000e+00 2.871e-01 7.039e-02]]\n",
      "Data Shape:\n",
      "(569, 30)\n"
     ]
    }
   ],
   "source": [
    "# begin import dataset to notebook\n",
    "from sklearn.datasets import load_breast_cancer\n",
    "# end dataset import. STOPPED.\n",
    "\n",
    "import pandas as pd\n",
    "\n",
    "# load dataset into notebook\n",
    "df = load_breast_cancer()\n",
    "# finished loading dataset into notebook. STOPPED.\n",
    "\n",
    "print(df.data)\n",
    "print(\"Data Shape:\")\n",
    "print(df.data.shape)"
   ]
  },
  {
   "cell_type": "code",
   "execution_count": null,
   "metadata": {},
   "outputs": [],
   "source": []
  }
 ],
 "metadata": {
  "kernelspec": {
   "display_name": "Python 3",
   "language": "python",
   "name": "python3"
  },
  "language_info": {
   "codemirror_mode": {
    "name": "ipython",
    "version": 3
   },
   "file_extension": ".py",
   "mimetype": "text/x-python",
   "name": "python",
   "nbconvert_exporter": "python",
   "pygments_lexer": "ipython3",
   "version": "3.7.4"
  }
 },
 "nbformat": 4,
 "nbformat_minor": 4
}
