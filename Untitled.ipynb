{
 "cells": [
  {
   "cell_type": "markdown",
   "metadata": {},
   "source": [
    "### Challenge:\n",
    "1. Import and explore the dataset. Recall the load_breast_cancer() method will return an object that contains the data in .data, the labels in .target, and the column names in .feature_names attributes.\n",
    "2. Build a Correlation Heatmap using Seaborn to check for each feature's correlation with the labels.\n",
    "3. Build a second Correlation Heatmap using Seaborn to check for mutlicollinearity between features.\n",
    "4. Scale and transform the data using a StandardScaler() object and any appropriate methods it contains.\n",
    "5. Split the newly scaled data into training and testing sets using train_test_split().\n",
    "6. Create an SVC() object, which can be found in sklearn.svm\n",
    "7. Fit the model to the scaled data.\n",
    "8 .Use your validation data to check the accuracy metrics for your model."
   ]
  },
  {
   "cell_type": "code",
   "execution_count": null,
   "metadata": {},
   "outputs": [],
   "source": [
    "import pandas as pd\n",
    "\n",
    "# load dataset into notebook\n",
    "df = pd."
   ]
  }
 ],
 "metadata": {
  "kernelspec": {
   "display_name": "Python 3",
   "language": "python",
   "name": "python3"
  },
  "language_info": {
   "codemirror_mode": {
    "name": "ipython",
    "version": 3
   },
   "file_extension": ".py",
   "mimetype": "text/x-python",
   "name": "python",
   "nbconvert_exporter": "python",
   "pygments_lexer": "ipython3",
   "version": "3.7.4"
  }
 },
 "nbformat": 4,
 "nbformat_minor": 4
}
